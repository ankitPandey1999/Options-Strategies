{
 "cells": [
  {
   "cell_type": "code",
   "execution_count": 2,
   "metadata": {},
   "outputs": [
    {
     "name": "stdout",
     "output_type": "stream",
     "text": [
      "Index(['Strike', 'ITM', 'ATM', 'OTM', 'OTMP', 'ATMP', 'ITMP'], dtype='object')\n"
     ]
    }
   ],
   "source": [
    "import pandas as pd\n",
    "import numpy as np\n",
    "import matplotlib.pyplot as plt\n",
    "from bokeh.plotting import figure, output_file, show\n",
    "\n",
    "import csv\n",
    "\n",
    "Strike_Prices = []\n",
    "ITM_Call = []\n",
    "ATM_Call = []\n",
    "OTM_Call = []\n",
    "\n",
    "df = pd.read_csv('OptionPrices.txt')\n",
    "df.to_csv (r'OptionPrices.csv', index=None)\n",
    "print(df.keys())"
   ]
  },
  {
   "cell_type": "code",
   "execution_count": 4,
   "metadata": {},
   "outputs": [],
   "source": [
    "Strike_Prices = df.Strike\n",
    "ITM_Call = df.ITM\n",
    "ATM_Call = df.ATM\n",
    "OTM_Call = df.OTM\n",
    "OTM_Put = df.OTMP\n",
    "ATM_Put = df.ATMP\n",
    "ITM_Put = df.ITMP\n",
    "\n",
    "strangle = OTM_Call + ATM_Put\n",
    "straddle = ATM_Call + ATM_Put\n",
    "\n",
    "xaxis = np.arange(1,42)\n",
    "# output to static HTML file\n",
    "output_file(\"Calls.html\")"
   ]
  },
  {
   "cell_type": "code",
   "execution_count": 6,
   "metadata": {},
   "outputs": [
    {
     "data": {
      "text/html": [
       "<div style=\"display: table;\"><div style=\"display: table-row;\"><div style=\"display: table-cell;\"><b title=\"bokeh.models.renderers.GlyphRenderer\">GlyphRenderer</b>(</div><div style=\"display: table-cell;\">id&nbsp;=&nbsp;'1651', <span id=\"1665\" style=\"cursor: pointer;\">&hellip;)</span></div></div><div class=\"1664\" style=\"display: none;\"><div style=\"display: table-cell;\"></div><div style=\"display: table-cell;\">data_source&nbsp;=&nbsp;ColumnDataSource(id='1648', ...),</div></div><div class=\"1664\" style=\"display: none;\"><div style=\"display: table-cell;\"></div><div style=\"display: table-cell;\">glyph&nbsp;=&nbsp;Line(id='1649', ...),</div></div><div class=\"1664\" style=\"display: none;\"><div style=\"display: table-cell;\"></div><div style=\"display: table-cell;\">hover_glyph&nbsp;=&nbsp;None,</div></div><div class=\"1664\" style=\"display: none;\"><div style=\"display: table-cell;\"></div><div style=\"display: table-cell;\">js_event_callbacks&nbsp;=&nbsp;{},</div></div><div class=\"1664\" style=\"display: none;\"><div style=\"display: table-cell;\"></div><div style=\"display: table-cell;\">js_property_callbacks&nbsp;=&nbsp;{},</div></div><div class=\"1664\" style=\"display: none;\"><div style=\"display: table-cell;\"></div><div style=\"display: table-cell;\">level&nbsp;=&nbsp;'glyph',</div></div><div class=\"1664\" style=\"display: none;\"><div style=\"display: table-cell;\"></div><div style=\"display: table-cell;\">muted&nbsp;=&nbsp;False,</div></div><div class=\"1664\" style=\"display: none;\"><div style=\"display: table-cell;\"></div><div style=\"display: table-cell;\">muted_glyph&nbsp;=&nbsp;None,</div></div><div class=\"1664\" style=\"display: none;\"><div style=\"display: table-cell;\"></div><div style=\"display: table-cell;\">name&nbsp;=&nbsp;None,</div></div><div class=\"1664\" style=\"display: none;\"><div style=\"display: table-cell;\"></div><div style=\"display: table-cell;\">nonselection_glyph&nbsp;=&nbsp;Line(id='1650', ...),</div></div><div class=\"1664\" style=\"display: none;\"><div style=\"display: table-cell;\"></div><div style=\"display: table-cell;\">selection_glyph&nbsp;=&nbsp;None,</div></div><div class=\"1664\" style=\"display: none;\"><div style=\"display: table-cell;\"></div><div style=\"display: table-cell;\">subscribed_events&nbsp;=&nbsp;[],</div></div><div class=\"1664\" style=\"display: none;\"><div style=\"display: table-cell;\"></div><div style=\"display: table-cell;\">tags&nbsp;=&nbsp;[],</div></div><div class=\"1664\" style=\"display: none;\"><div style=\"display: table-cell;\"></div><div style=\"display: table-cell;\">view&nbsp;=&nbsp;CDSView(id='1652', ...),</div></div><div class=\"1664\" style=\"display: none;\"><div style=\"display: table-cell;\"></div><div style=\"display: table-cell;\">visible&nbsp;=&nbsp;True,</div></div><div class=\"1664\" style=\"display: none;\"><div style=\"display: table-cell;\"></div><div style=\"display: table-cell;\">x_range_name&nbsp;=&nbsp;'default',</div></div><div class=\"1664\" style=\"display: none;\"><div style=\"display: table-cell;\"></div><div style=\"display: table-cell;\">y_range_name&nbsp;=&nbsp;'default')</div></div></div>\n",
       "<script>\n",
       "(function() {\n",
       "  var expanded = false;\n",
       "  var ellipsis = document.getElementById(\"1665\");\n",
       "  ellipsis.addEventListener(\"click\", function() {\n",
       "    var rows = document.getElementsByClassName(\"1664\");\n",
       "    for (var i = 0; i < rows.length; i++) {\n",
       "      var el = rows[i];\n",
       "      el.style.display = expanded ? \"none\" : \"table-row\";\n",
       "    }\n",
       "    ellipsis.innerHTML = expanded ? \"&hellip;)\" : \"&lsaquo;&lsaquo;&lsaquo;\";\n",
       "    expanded = !expanded;\n",
       "  });\n",
       "})();\n",
       "</script>\n"
      ],
      "text/plain": [
       "GlyphRenderer(id='1651', ...)"
      ]
     },
     "execution_count": 6,
     "metadata": {},
     "output_type": "execute_result"
    }
   ],
   "source": [
    "c = figure(title=\"Compare Calls\", x_axis_label='Stock Price', y_axis_label='Profit', width = 800)\n",
    "\n",
    "c.line(xaxis, ITM_Call, color='#A7414A', legend=\"ITM Call\", line_width=3)\n",
    "c.line(xaxis, ATM_Call, color='#282726', legend=\"ATM Call\", line_width=3)\n",
    "c.line(xaxis, OTM_Call, color='#6A8A82', legend=\"OTM Call\", line_width=3)\n",
    "\n",
    "p = figure(title=\"Compare Puts\", x_axis_label='Stock Price', y_axis_label='Profit', width = 800)\n",
    "\n",
    "p.line(xaxis, OTM_Put, color='#6C6B74', legend=\"OTM Put\", line_width=3)\n",
    "p.line(xaxis, ATM_Put, color='#2E303E', legend=\"ATM Put\", line_width=3)\n",
    "p.line(xaxis, ITM_Put, color='#9199BE', legend=\"ITM Put\", line_width=3)\n",
    "\n",
    "stran = figure(title=\"Strangle\", x_axis_label='Stock Price', y_axis_label='Profit', width = 800)\n",
    "\n",
    "stran.line(xaxis, OTM_Call, color='#F29D4B', legend=\"OTM Call\", line_width=3)\n",
    "stran.line(xaxis, ATM_Put, color='#D57030', legend=\"ATM Put\", line_width=3)\n",
    "stran.line(xaxis, strangle, color='#8B281F', legend=\"Strangle\", line_width=3)\n",
    "\n",
    "strad = figure(title=\"Straddle\", x_axis_label='Stock Price', y_axis_label='Profit', width = 800)\n",
    "\n",
    "strad.line(xaxis, ATM_Call, color='#6441a5', legend=\"ATM Call\", line_width=3)\n",
    "strad.line(xaxis, ATM_Put, color='#657786', legend=\"ATM Put\", line_width=3)\n",
    "strad.line(xaxis, straddle, color='#355ebe', legend=\"Straddle\", line_width=3)\n",
    "\n"
   ]
  },
  {
   "cell_type": "code",
   "execution_count": 8,
   "metadata": {},
   "outputs": [],
   "source": [
    "# show the results\n",
    "# show(c)\n",
    "# show(p)\n",
    "# show(stran)\n",
    "# show(strad)"
   ]
  },
  {
   "cell_type": "code",
   "execution_count": null,
   "metadata": {},
   "outputs": [],
   "source": []
  }
 ],
 "metadata": {
  "kernelspec": {
   "display_name": "Python 3",
   "language": "python",
   "name": "python3"
  },
  "language_info": {
   "codemirror_mode": {
    "name": "ipython",
    "version": 3
   },
   "file_extension": ".py",
   "mimetype": "text/x-python",
   "name": "python",
   "nbconvert_exporter": "python",
   "pygments_lexer": "ipython3",
   "version": "3.7.4"
  }
 },
 "nbformat": 4,
 "nbformat_minor": 2
}
